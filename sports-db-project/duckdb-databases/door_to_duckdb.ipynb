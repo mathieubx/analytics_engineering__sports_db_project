{
 "cells": [
  {
   "cell_type": "code",
   "execution_count": 4,
   "metadata": {},
   "outputs": [],
   "source": [
    "import duckdb\n",
    "\n",
    "database = \"C:/Users/mbmbm/matbx-data/sports-db-project/duckdb-databases/sports_db.duckdb\"\n",
    "\n",
    "# with duckdb.connect(database) as con:\n",
    "#     con.sql(\"CREATE SCHEMA IF NOT EXISTS raw\")\n",
    "#     con.sql(\"CREATE SCHEMA IF NOT EXISTS dev\")\n",
    "#     con.sql(\"CREATE SCHEMA IF NOT EXISTS prod\")"
   ]
  },
  {
   "cell_type": "code",
   "execution_count": null,
   "metadata": {},
   "outputs": [],
   "source": [
    "database = \"C:/Users/mbmbm/matbx-data/sports-db-project/duckdb-databases/sports_db.duckdb\"\n",
    "\n",
    "with duckdb.connect(database) as con:\n",
    "    con.sql(\"CREATE SCHEMA IF NOT EXISTS raw\")\n",
    "    con.sql(\"CREATE SCHEMA IF NOT EXISTS dev\")\n",
    "    con.sql(\"CREATE SCHEMA IF NOT EXISTS prod\")\n",
    "    con.sql(\"SELECT * FROM INFORMATION_SCHEMA.schemata\").show()\n"
   ]
  },
  {
   "cell_type": "code",
   "execution_count": 52,
   "metadata": {},
   "outputs": [
    {
     "name": "stdout",
     "output_type": "stream",
     "text": [
      "┌───────────────┬──────────────┬─────────────────────────────┬────────────┬──────────────────────────────┬──────────────────────┬───────────────────────────┬──────────────────────────┬────────────────────────┬────────────────────┬──────────┬───────────────┬───────────────┐\n",
      "│ table_catalog │ table_schema │         table_name          │ table_type │ self_referencing_column_name │ reference_generation │ user_defined_type_catalog │ user_defined_type_schema │ user_defined_type_name │ is_insertable_into │ is_typed │ commit_action │ TABLE_COMMENT │\n",
      "│    varchar    │   varchar    │           varchar           │  varchar   │           varchar            │       varchar        │          varchar          │         varchar          │        varchar         │      varchar       │ varchar  │    varchar    │    varchar    │\n",
      "├───────────────┼──────────────┼─────────────────────────────┼────────────┼──────────────────────────────┼──────────────────────┼───────────────────────────┼──────────────────────────┼────────────────────────┼────────────────────┼──────────┼───────────────┼───────────────┤\n",
      "│ sports_db     │ raw          │ football_data__areas        │ BASE TABLE │ NULL                         │ NULL                 │ NULL                      │ NULL                     │ NULL                   │ YES                │ NO       │ NULL          │ NULL          │\n",
      "│ sports_db     │ raw          │ football_data__competitions │ BASE TABLE │ NULL                         │ NULL                 │ NULL                      │ NULL                     │ NULL                   │ YES                │ NO       │ NULL          │ NULL          │\n",
      "│ sports_db     │ raw          │ football_data__matches      │ BASE TABLE │ NULL                         │ NULL                 │ NULL                      │ NULL                     │ NULL                   │ YES                │ NO       │ NULL          │ NULL          │\n",
      "│ sports_db     │ raw          │ football_data__teams        │ BASE TABLE │ NULL                         │ NULL                 │ NULL                      │ NULL                     │ NULL                   │ YES                │ NO       │ NULL          │ NULL          │\n",
      "└───────────────┴──────────────┴─────────────────────────────┴────────────┴──────────────────────────────┴──────────────────────┴───────────────────────────┴──────────────────────────┴────────────────────────┴────────────────────┴──────────┴───────────────┴───────────────┘\n",
      "\n",
      "┌──────────────┐\n",
      "│ count_star() │\n",
      "│    int64     │\n",
      "├──────────────┤\n",
      "│         2421 │\n",
      "└──────────────┘\n",
      "\n"
     ]
    }
   ],
   "source": [
    "database = \"C:/Users/mbmbm/matbx-data/sports-db-project/duckdb-databases/sports_db.duckdb\"\n",
    "with duckdb.connect(database) as con:\n",
    "    con.sql(\"SELECT * FROM information_schema.tables WHERE table_schema = 'raw'\").show()\n",
    "    con.sql(\"SELECT COUNT(*) FROM raw.football_data__matches\").show()\n"
   ]
  },
  {
   "cell_type": "code",
   "execution_count": 25,
   "metadata": {},
   "outputs": [
    {
     "name": "stdout",
     "output_type": "stream",
     "text": [
      "True\n",
      "database removed\n"
     ]
    }
   ],
   "source": [
    "import os\n",
    "\n",
    "path_to_remove=\"C:/Users/mbmbm/matbx-data/sports-db-project/duckdb-databases/sports_db-prod.duckdb\"\n",
    "if os.path.exists(path_to_remove):\n",
    "    print(True)\n",
    "    try:\n",
    "        os.remove(path_to_remove)\n",
    "        print(\"database removed\")\n",
    "    except:\n",
    "        print(str(ValueError))"
   ]
  }
 ],
 "metadata": {
  "kernelspec": {
   "display_name": "venv",
   "language": "python",
   "name": "venv"
  },
  "language_info": {
   "codemirror_mode": {
    "name": "ipython",
    "version": 3
   },
   "file_extension": ".py",
   "mimetype": "text/x-python",
   "name": "python",
   "nbconvert_exporter": "python",
   "pygments_lexer": "ipython3",
   "version": "3.13.2"
  }
 },
 "nbformat": 4,
 "nbformat_minor": 2
}
