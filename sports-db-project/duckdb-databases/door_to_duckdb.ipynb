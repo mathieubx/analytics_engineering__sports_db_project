{
 "cells": [
  {
   "cell_type": "code",
   "execution_count": 2,
   "metadata": {},
   "outputs": [],
   "source": [
    "import duckdb\n",
    "\n",
    "database = \"C:/Users/mbmbm/matbx-data/sports-db-project/duckdb-databases/sports_db.duckdb\"\n",
    "\n",
    "# with duckdb.connect(database) as con:\n",
    "#     con.sql(\"CREATE SCHEMA IF NOT EXISTS raw\")\n",
    "#     con.sql(\"CREATE SCHEMA IF NOT EXISTS dev\")\n",
    "#     con.sql(\"CREATE SCHEMA IF NOT EXISTS prod\")"
   ]
  },
  {
   "cell_type": "code",
   "execution_count": 33,
   "metadata": {},
   "outputs": [
    {
     "name": "stdout",
     "output_type": "stream",
     "text": [
      "┌──────────────────────────────────────────┬───────────────────────┬────────────────┬──────────────┬────────────────────────────────────────────┬────────────────┬──────────────────────────────┬─────────┐\n",
      "│                country_id                │ football_data_area_id │  country_name  │ country_code │                continent_id                │ continent_name │ football_data_parent_area_id │  TEST   │\n",
      "│                 varchar                  │        varchar        │    varchar     │   varchar    │                  varchar                   │    varchar     │           varchar            │ boolean │\n",
      "├──────────────────────────────────────────┼───────────────────────┼────────────────┼──────────────┼────────────────────────────────────────────┼────────────────┼──────────────────────────────┼─────────┤\n",
      "│ country_89f9c9f489be2a83cf57e53b9197d288 │ 2255                  │ United Kingdom │ UK           │ continent_912d59cdf1d3f551fae21f6f0062258f │ Europe         │ 2077.0                       │ false   │\n",
      "└──────────────────────────────────────────┴───────────────────────┴────────────────┴──────────────┴────────────────────────────────────────────┴────────────────┴──────────────────────────────┴─────────┘\n",
      "\n"
     ]
    }
   ],
   "source": [
    "with duckdb.connect(database) as con:\n",
    "    # con.sql(\"SELECT * FROM raw.football_data__areas\").show(max_rows=1000)\n",
    "    con.sql(\"SELECT *, LENGTH(country_code)=3 as TEST FROM dev.stg_footballdata__areas WHERE NOT TEST\").show(max_rows=1000)"
   ]
  },
  {
   "cell_type": "code",
   "execution_count": 16,
   "metadata": {},
   "outputs": [
    {
     "name": "stdout",
     "output_type": "stream",
     "text": [
      "┌───────────────┬──────────────┬─────────────────────────────────┬────────────┬──────────────────────────────┬──────────────────────┬───────────────────────────┬──────────────────────────┬────────────────────────┬────────────────────┬──────────┬───────────────┬───────────────┐\n",
      "│ table_catalog │ table_schema │           table_name            │ table_type │ self_referencing_column_name │ reference_generation │ user_defined_type_catalog │ user_defined_type_schema │ user_defined_type_name │ is_insertable_into │ is_typed │ commit_action │ TABLE_COMMENT │\n",
      "│    varchar    │   varchar    │             varchar             │  varchar   │           varchar            │       varchar        │          varchar          │         varchar          │        varchar         │      varchar       │ varchar  │    varchar    │    varchar    │\n",
      "├───────────────┼──────────────┼─────────────────────────────────┼────────────┼──────────────────────────────┼──────────────────────┼───────────────────────────┼──────────────────────────┼────────────────────────┼────────────────────┼──────────┼───────────────┼───────────────┤\n",
      "│ sports_db     │ dev          │ common_footballdata__continents │ BASE TABLE │ NULL                         │ NULL                 │ NULL                      │ NULL                     │ NULL                   │ YES                │ NO       │ NULL          │ NULL          │\n",
      "│ sports_db     │ dev          │ stg_footballdata__areas         │ BASE TABLE │ NULL                         │ NULL                 │ NULL                      │ NULL                     │ NULL                   │ YES                │ NO       │ NULL          │ NULL          │\n",
      "│ sports_db     │ raw          │ football_data__areas            │ BASE TABLE │ NULL                         │ NULL                 │ NULL                      │ NULL                     │ NULL                   │ YES                │ NO       │ NULL          │ NULL          │\n",
      "│ sports_db     │ raw          │ football_data__competitions     │ BASE TABLE │ NULL                         │ NULL                 │ NULL                      │ NULL                     │ NULL                   │ YES                │ NO       │ NULL          │ NULL          │\n",
      "│ sports_db     │ raw          │ football_data__matches          │ BASE TABLE │ NULL                         │ NULL                 │ NULL                      │ NULL                     │ NULL                   │ YES                │ NO       │ NULL          │ NULL          │\n",
      "│ sports_db     │ raw          │ football_data__teams            │ BASE TABLE │ NULL                         │ NULL                 │ NULL                      │ NULL                     │ NULL                   │ YES                │ NO       │ NULL          │ NULL          │\n",
      "└───────────────┴──────────────┴─────────────────────────────────┴────────────┴──────────────────────────────┴──────────────────────┴───────────────────────────┴──────────────────────────┴────────────────────────┴────────────────────┴──────────┴───────────────┴───────────────┘\n",
      "\n",
      "┌────────────────────────────────────────────┬────────────────┐\n",
      "│                continent_id                │ continent_name │\n",
      "│                  varchar                   │    varchar     │\n",
      "├────────────────────────────────────────────┼────────────────┤\n",
      "│ continent_912d59cdf1d3f551fae21f6f0062258f │ Europe         │\n",
      "│ continent_484a513c47cd800cc78ba3792feb1caf │ N/C America    │\n",
      "│ continent_f5cd262901883dff68d06b215fb0f28e │ Africa         │\n",
      "│ continent_aab422acb3d2334a6deca0e1495745c2 │ South America  │\n",
      "│ continent_2d8836190888267b97ce332cad2aa247 │ Oceania        │\n",
      "│ continent_154a67340e8c14dd5253dc4ff6120197 │ Asia           │\n",
      "│ continent_f5a7924e621e84c9280a9a27e1bcb7f6 │ World          │\n",
      "└────────────────────────────────────────────┴────────────────┘\n",
      "\n",
      "┌──────────────────────────────────────────┬───────────────────────┬─────────────────────┬──────────────┬────────────────────────────────────────────┬────────────────┬──────────────────────────────┐\n",
      "│                country_id                │ football_data_area_id │    country_name     │ country_code │                continent_id                │ continent_name │ football_data_parent_area_id │\n",
      "│                 varchar                  │        varchar        │       varchar       │   varchar    │                  varchar                   │    varchar     │           varchar            │\n",
      "├──────────────────────────────────────────┼───────────────────────┼─────────────────────┼──────────────┼────────────────────────────────────────────┼────────────────┼──────────────────────────────┤\n",
      "│ country_6e9767f4f15357401b148b9a8ced14ef │ 2000                  │ Afghanistan         │ AFG          │ continent_154a67340e8c14dd5253dc4ff6120197 │ Asia           │ 2014.0                       │\n",
      "│ country_f5cd262901883dff68d06b215fb0f28e │ 2001                  │ Africa              │ AFR          │ continent_f5a7924e621e84c9280a9a27e1bcb7f6 │ World          │ 2267.0                       │\n",
      "│ country_c420ddff824a5c0eec70dd23d62496bc │ 2002                  │ Albania             │ ALB          │ continent_912d59cdf1d3f551fae21f6f0062258f │ Europe         │ 2077.0                       │\n",
      "│ country_575b9408b6daa2ddcefbcf6d81c9b4c9 │ 2004                  │ Algeria             │ ALG          │ continent_f5cd262901883dff68d06b215fb0f28e │ Africa         │ 2001.0                       │\n",
      "│ country_b86f99753a08d00fa3ca946d07ecac29 │ 2005                  │ American Samoa      │ ASM          │ continent_2d8836190888267b97ce332cad2aa247 │ Oceania        │ 2175.0                       │\n",
      "│ country_68746a7280b143cfc01f967610d3e86d │ 2006                  │ Andorra             │ AND          │ continent_912d59cdf1d3f551fae21f6f0062258f │ Europe         │ 2077.0                       │\n",
      "│ country_232bf11cb81bcdb269f76a08fde8b947 │ 2007                  │ Angola              │ ANG          │ continent_f5cd262901883dff68d06b215fb0f28e │ Africa         │ 2001.0                       │\n",
      "│ country_cedfc05affe8143cc552076e77407863 │ 2008                  │ Anguilla            │ AIA          │ continent_484a513c47cd800cc78ba3792feb1caf │ N/C America    │ 2159.0                       │\n",
      "│ country_f7e68bf0791888ebcd5bfc62e022aa83 │ 2009                  │ Antigua and Barbuda │ ATG          │ continent_484a513c47cd800cc78ba3792feb1caf │ N/C America    │ 2159.0                       │\n",
      "│ country_410244314fa0601daa5ca1ccd107a955 │ 2010                  │ Arameans Suryoye    │ ARS          │ continent_f5a7924e621e84c9280a9a27e1bcb7f6 │ World          │ 2267.0                       │\n",
      "│                    ·                     │  ·                    │    ·                │  ·           │                     ·                      │  ·             │   ·                          │\n",
      "│                    ·                     │  ·                    │    ·                │  ·           │                     ·                      │  ·             │   ·                          │\n",
      "│                    ·                     │  ·                    │    ·                │  ·           │                     ·                      │  ·             │   ·                          │\n",
      "│ country_fdef6daa799e80dbce1b561577b21181 │ 2263                  │ Vietnam             │ VIE          │ continent_154a67340e8c14dd5253dc4ff6120197 │ Asia           │ 2014.0                       │\n",
      "│ country_e612e56ca0235a349cffa8331d8a6ad7 │ 2264                  │ Wales               │ WAL          │ continent_912d59cdf1d3f551fae21f6f0062258f │ Europe         │ 2077.0                       │\n",
      "│ country_7ae3e0b40793f1dce2a5fe866e624a2f │ 2265                  │ West Indies         │ WIN          │ continent_f5a7924e621e84c9280a9a27e1bcb7f6 │ World          │ 2267.0                       │\n",
      "│ country_1bdb61bdbf5bc9a2cdc5db037ab610e0 │ 2266                  │ Western Sahara      │ WSR          │ continent_f5cd262901883dff68d06b215fb0f28e │ Africa         │ 2001.0                       │\n",
      "│ country_f5a7924e621e84c9280a9a27e1bcb7f6 │ 2267                  │ World               │ INT          │ NULL                                       │ NULL           │ NULL                         │\n",
      "│ country_724bf4ca11a567636547a92a37e397b7 │ 2268                  │ Yemen               │ YEM          │ continent_154a67340e8c14dd5253dc4ff6120197 │ Asia           │ 2014.0                       │\n",
      "│ country_2808c2fdb9d874bd8b924d0ce354b846 │ 2269                  │ Yugoslavia          │ YUG          │ continent_912d59cdf1d3f551fae21f6f0062258f │ Europe         │ 2077.0                       │\n",
      "│ country_b0aa0804e676a38255af4fd70236af7c │ 2270                  │ Zambia              │ ZAM          │ continent_f5cd262901883dff68d06b215fb0f28e │ Africa         │ 2001.0                       │\n",
      "│ country_11c31301af9029afaada00c773b2136d │ 2271                  │ Zanzibar            │ ZAN          │ continent_f5cd262901883dff68d06b215fb0f28e │ Africa         │ 2001.0                       │\n",
      "│ country_9d5116a2451bc98c2b46b93acbc1b4f0 │ 2272                  │ Zimbabwe            │ ZIM          │ continent_f5cd262901883dff68d06b215fb0f28e │ Africa         │ 2001.0                       │\n",
      "├──────────────────────────────────────────┴───────────────────────┴─────────────────────┴──────────────┴────────────────────────────────────────────┴────────────────┴──────────────────────────────┤\n",
      "│ 272 rows (20 shown)                                                                                                                                                                      7 columns │\n",
      "└────────────────────────────────────────────────────────────────────────────────────────────────────────────────────────────────────────────────────────────────────────────────────────────────────┘\n",
      "\n"
     ]
    }
   ],
   "source": [
    "with duckdb.connect(database) as con:\n",
    "    #con.sql(\"SELECT * FROM dev.stg_footballdata__areas\").show(max_rows=1000)\n",
    "    con.sql('SELECT * FROM INFORMATION_SCHEMA.TABLES').show()\n",
    "    con.sql('SELECT * FROM dev.common_footballdata__continents').show()\n",
    "    con.sql('SELECT * FROM dev.stg_footballdata__areas').show()"
   ]
  },
  {
   "cell_type": "code",
   "execution_count": 49,
   "metadata": {},
   "outputs": [
    {
     "name": "stdout",
     "output_type": "stream",
     "text": [
      "┌──────────────────────────────────────────────┬──────────────────────────────┬───────────────────────────────┬──────────────────┬──────────────────┬───────────────┬───────────────────┐\n",
      "│                competition_id                │ football_data_competition_id │       competition_name        │ competition_code │ competition_type │ country_name  │ current_season_id │\n",
      "│                   varchar                    │           varchar            │            varchar            │     varchar      │     varchar      │    varchar    │      varchar      │\n",
      "├──────────────────────────────────────────────┼──────────────────────────────┼───────────────────────────────┼──────────────────┼──────────────────┼───────────────┼───────────────────┤\n",
      "│ competition_463a3f30782751201bda81cde5627ab8 │ 2013                         │ Campeonato Brasileiro Série A │ BSA              │ league           │ Brazil        │ 2371              │\n",
      "│ competition_c28fec8091d0f47f8732bbda2e4cd578 │ 2016                         │ Championship                  │ ELC              │ league           │ England       │ 2301              │\n",
      "│ competition_1f85e0f020e143beddcebd01720b9493 │ 2021                         │ Premier League                │ PL               │ league           │ England       │ 2287              │\n",
      "│ competition_2bebb389e6e3eec1aff94832b6626df5 │ 2001                         │ UEFA Champions League         │ CL               │ cup              │ Europe        │ 2350              │\n",
      "│ competition_523b9b056329b11b2f36627a4aeaf49e │ 2018                         │ European Championship         │ EC               │ cup              │ Europe        │ 1537              │\n",
      "│ competition_e50cfc5e6ac6ef0cebf7d2b1dd093d6d │ 2015                         │ Ligue 1                       │ FL1              │ league           │ France        │ 2290              │\n",
      "│ competition_2d7ebe944b3b0e6cc1240fff3843dc3e │ 2002                         │ Bundesliga                    │ BL1              │ league           │ Germany       │ 2308              │\n",
      "│ competition_85761507b03bc7491320ca76a7144f8f │ 2019                         │ Serie A                       │ SA               │ league           │ Italy         │ 2310              │\n",
      "│ competition_908644d916a2f399cdcd6253169bd656 │ 2003                         │ Eredivisie                    │ DED              │ league           │ Netherlands   │ 2293              │\n",
      "│ competition_aea800a806626afed3662402684ff717 │ 2017                         │ Primeira Liga                 │ PPL              │ league           │ Portugal      │ 2312              │\n",
      "│ competition_0791e56547b94b875fb2fee2dbb1203b │ 2152                         │ Copa Libertadores             │ CLI              │ cup              │ South America │ 2366              │\n",
      "│ competition_086118b1ede0b7e7b96024bb5a23db6b │ 2014                         │ Primera Division              │ PD               │ league           │ Spain         │ 2292              │\n",
      "│ competition_c400c6c244b448728e8388d8d2e7a7dd │ 2000                         │ FIFA World Cup                │ WC               │ cup              │ World         │ 1382              │\n",
      "├──────────────────────────────────────────────┴──────────────────────────────┴───────────────────────────────┴──────────────────┴──────────────────┴───────────────┴───────────────────┤\n",
      "│ 13 rows                                                                                                                                                                     7 columns │\n",
      "└───────────────────────────────────────────────────────────────────────────────────────────────────────────────────────────────────────────────────────────────────────────────────────┘\n",
      "\n"
     ]
    }
   ],
   "source": [
    "query = \"\"\" \n",
    "select \n",
    "    *\n",
    "from dev.stg_footballdata__competitions\n",
    "\"\"\"\n",
    "\n",
    "# SELECT\n",
    "#     *\n",
    "# FROM dev.stg_footballdata__areas\n",
    "# WHERE continent_name = 'World'\n",
    "\n",
    "with duckdb.connect(database) as con:\n",
    "    con.sql(query).show()"
   ]
  },
  {
   "cell_type": "code",
   "execution_count": null,
   "metadata": {},
   "outputs": [],
   "source": []
  }
 ],
 "metadata": {
  "kernelspec": {
   "display_name": "venv",
   "language": "python",
   "name": "venv"
  },
  "language_info": {
   "codemirror_mode": {
    "name": "ipython",
    "version": 3
   },
   "file_extension": ".py",
   "mimetype": "text/x-python",
   "name": "python",
   "nbconvert_exporter": "python",
   "pygments_lexer": "ipython3",
   "version": "3.13.2"
  }
 },
 "nbformat": 4,
 "nbformat_minor": 2
}
