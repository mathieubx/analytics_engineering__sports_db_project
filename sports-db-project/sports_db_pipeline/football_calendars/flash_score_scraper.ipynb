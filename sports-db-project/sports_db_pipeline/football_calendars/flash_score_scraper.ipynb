{
 "cells": [
  {
   "cell_type": "markdown",
   "metadata": {},
   "source": [
    "This notebook is a created to scrape the website Flashscore.com for personal project purpose only. The data scraped should not be used for commercial purpose."
   ]
  },
  {
   "cell_type": "markdown",
   "metadata": {},
   "source": [
    "# Set Up"
   ]
  },
  {
   "cell_type": "markdown",
   "metadata": {},
   "source": [
    "## 1. Packages"
   ]
  },
  {
   "cell_type": "code",
   "execution_count": 16,
   "metadata": {},
   "outputs": [],
   "source": [
    "import importlib\n",
    "import subprocess\n",
    "import sys\n",
    "\n",
    "# A function to check if a package is already installed\n",
    "def check_install(package_name):\n",
    "    try:\n",
    "        return importlib.import_module(package_name), print(package_name, \"installed\")\n",
    "    except ImportError:\n",
    "        print(f\"{package_name} not found. Installing...\")\n",
    "        subprocess.check_call([sys.executable, \"-m\", \"pip\", \"install\", package_name])"
   ]
  },
  {
   "cell_type": "code",
   "execution_count": 26,
   "metadata": {},
   "outputs": [
    {
     "name": "stdout",
     "output_type": "stream",
     "text": [
      "pandas installed\n",
      "scrapegraphai installed\n",
      "json installed\n",
      "toml installed\n",
      "nest_asyncio installed\n"
     ]
    }
   ],
   "source": [
    "# Install and import libraries \n",
    "\n",
    "check_install(\"pandas\")\n",
    "check_install(\"scrapegraphai\")\n",
    "check_install(\"json\")\n",
    "check_install(\"toml\")\n",
    "check_install(\"nest_asyncio\")\n",
    "\n",
    "import pandas\n",
    "import scrapegraphai\n",
    "import json\n",
    "import toml\n",
    "import nest_asyncio"
   ]
  },
  {
   "cell_type": "markdown",
   "metadata": {},
   "source": [
    "## 2. Secrets"
   ]
  },
  {
   "cell_type": "code",
   "execution_count": 30,
   "metadata": {},
   "outputs": [],
   "source": [
    "secrets = toml.load(\"../secrets.toml\")\n",
    "openai_api_key = secrets['openai_api']['api_key']"
   ]
  },
  {
   "cell_type": "markdown",
   "metadata": {},
   "source": [
    "# Scraping the website"
   ]
  },
  {
   "cell_type": "markdown",
   "metadata": {},
   "source": [
    "<p>I chose to try and use a library called \"scrapegraphai\" for the scraping. Since this data is extracted for my sports database project, and since this project's focus is analytics engineering, I don't want to spend a lot of time in building a scraping script. Therefore, I decided to give it a shot.</p>\n",
    "\n",
    "<p>Documentation for the library use: https://www.datacamp.com/tutorial/scrapegraphai-web-scraping</p>\n",
    "\n",
    "<p> Unfortunately, Open AI imposes strict limits to the API use, especially for the free tier. Therefore, I need to go with the free option.</p>\n"
   ]
  },
  {
   "cell_type": "code",
   "execution_count": null,
   "metadata": {},
   "outputs": [],
   "source": []
  },
  {
   "cell_type": "code",
   "execution_count": null,
   "metadata": {},
   "outputs": [],
   "source": [
    "# Define URLs, by storing the name of the league and the corresponding calendar's url in Flashscore\n",
    "leagues_calendars_urls = {\n",
    "    \"ligue_1\" : \n",
    "}"
   ]
  }
 ],
 "metadata": {
  "kernelspec": {
   "display_name": "venv",
   "language": "python",
   "name": "python3"
  },
  "language_info": {
   "codemirror_mode": {
    "name": "ipython",
    "version": 3
   },
   "file_extension": ".py",
   "mimetype": "text/x-python",
   "name": "python",
   "nbconvert_exporter": "python",
   "pygments_lexer": "ipython3",
   "version": "3.13.3"
  }
 },
 "nbformat": 4,
 "nbformat_minor": 2
}
